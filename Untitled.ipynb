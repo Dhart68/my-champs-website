{
 "cells": [
  {
   "cell_type": "code",
   "execution_count": 69,
   "id": "29d6df3c-9b48-4222-afe2-2f03b330b511",
   "metadata": {
    "execution": {
     "iopub.execute_input": "2025-10-10T08:51:02.419294Z",
     "iopub.status.busy": "2025-10-10T08:51:02.418786Z",
     "iopub.status.idle": "2025-10-10T08:51:02.437085Z",
     "shell.execute_reply": "2025-10-10T08:51:02.435934Z",
     "shell.execute_reply.started": "2025-10-10T08:51:02.419258Z"
    }
   },
   "outputs": [],
   "source": [
    "# update_nba_data.py\n",
    "import pandas as pd\n",
    "from datetime import date\n",
    "from datetime import datetime\n",
    "\n",
    "from nba_api.stats.static import players\n",
    "from nba_api.stats.endpoints import playergamelog\n",
    "from nba_api.stats.endpoints import commonplayerinfo\n",
    "\n",
    "from get_player_image import get_player_image\n",
    "from get_mp4_urls import get_mp4_urls\n",
    "\n",
    "from get_best_players_day import get_best_players_day\n",
    "from get_players_info import get_players_info"
   ]
  },
  {
   "cell_type": "code",
   "execution_count": 48,
   "id": "768850c2-b1c0-410e-87f0-ef303c838a77",
   "metadata": {
    "execution": {
     "iopub.execute_input": "2025-10-10T06:08:03.732334Z",
     "iopub.status.busy": "2025-10-10T06:08:03.731884Z",
     "iopub.status.idle": "2025-10-10T06:08:03.738706Z",
     "shell.execute_reply": "2025-10-10T06:08:03.737839Z",
     "shell.execute_reply.started": "2025-10-10T06:08:03.732310Z"
    }
   },
   "outputs": [],
   "source": [
    "pd.set_option('display.max_rows', None)"
   ]
  },
  {
   "cell_type": "code",
   "execution_count": 87,
   "id": "93b0ee42-a017-4e88-94c1-da6ae0c2c1e1",
   "metadata": {
    "execution": {
     "iopub.execute_input": "2025-10-10T11:10:57.056586Z",
     "iopub.status.busy": "2025-10-10T11:10:57.049766Z",
     "iopub.status.idle": "2025-10-10T11:10:57.121830Z",
     "shell.execute_reply": "2025-10-10T11:10:57.120636Z",
     "shell.execute_reply.started": "2025-10-10T11:10:57.056401Z"
    }
   },
   "outputs": [],
   "source": [
    "pbp = pd.read_csv('data/picked_players_video_event_df_2025-10-10.csv')"
   ]
  },
  {
   "cell_type": "code",
   "execution_count": 92,
   "id": "1065de09-f86d-4556-a274-80a847ffe436",
   "metadata": {
    "execution": {
     "iopub.execute_input": "2025-10-10T12:07:11.708665Z",
     "iopub.status.busy": "2025-10-10T12:07:11.707249Z",
     "iopub.status.idle": "2025-10-10T12:07:11.723417Z",
     "shell.execute_reply": "2025-10-10T12:07:11.722222Z",
     "shell.execute_reply.started": "2025-10-10T12:07:11.708635Z"
    }
   },
   "outputs": [
    {
     "data": {
      "text/plain": [
       "Index(['GAME_ID', 'EVENTNUM', 'EVENTMSGTYPE', 'EVENTMSGACTIONTYPE', 'PERIOD',\n",
       "       'WCTIMESTRING', 'PCTIMESTRING', 'HOMEDESCRIPTION', 'NEUTRALDESCRIPTION',\n",
       "       'VISITORDESCRIPTION', 'SCORE', 'SCOREMARGIN', 'PERSON1TYPE',\n",
       "       'PLAYER1_ID', 'PLAYER1_NAME', 'PLAYER1_TEAM_ID', 'PLAYER1_TEAM_CITY',\n",
       "       'PLAYER1_TEAM_NICKNAME', 'PLAYER1_TEAM_ABBREVIATION', 'PERSON2TYPE',\n",
       "       'PLAYER2_ID', 'PLAYER2_NAME', 'PLAYER2_TEAM_ID', 'PLAYER2_TEAM_CITY',\n",
       "       'PLAYER2_TEAM_NICKNAME', 'PLAYER2_TEAM_ABBREVIATION', 'PERSON3TYPE',\n",
       "       'PLAYER3_ID', 'PLAYER3_NAME', 'PLAYER3_TEAM_ID', 'PLAYER3_TEAM_CITY',\n",
       "       'PLAYER3_TEAM_NICKNAME', 'PLAYER3_TEAM_ABBREVIATION',\n",
       "       'VIDEO_AVAILABLE_FLAG', 'video', 'desc', 'player_name'],\n",
       "      dtype='object')"
      ]
     },
     "execution_count": 92,
     "metadata": {},
     "output_type": "execute_result"
    }
   ],
   "source": [
    "pbp.columns\n"
   ]
  },
  {
   "cell_type": "code",
   "execution_count": 96,
   "id": "72fcf666-965c-4b69-b59d-cd93a5d31818",
   "metadata": {
    "execution": {
     "iopub.execute_input": "2025-10-12T19:26:59.983741Z",
     "iopub.status.busy": "2025-10-12T19:26:59.981109Z",
     "iopub.status.idle": "2025-10-12T19:26:59.999887Z",
     "shell.execute_reply": "2025-10-12T19:26:59.998205Z",
     "shell.execute_reply.started": "2025-10-12T19:26:59.983671Z"
    }
   },
   "outputs": [],
   "source": [
    "input_file_1 = f\"data/best_players_day.csv\"\n",
    "df_not_best_performers = pd.read_csv(input_file_1).iloc[5:].reset_index(drop=True)\n",
    "\n"
   ]
  },
  {
   "cell_type": "code",
   "execution_count": 97,
   "id": "2782af6d-afaa-4238-948c-606396c00c75",
   "metadata": {
    "execution": {
     "iopub.execute_input": "2025-10-12T19:27:01.153261Z",
     "iopub.status.busy": "2025-10-12T19:27:01.151618Z",
     "iopub.status.idle": "2025-10-12T19:27:01.170931Z",
     "shell.execute_reply": "2025-10-12T19:27:01.169247Z",
     "shell.execute_reply.started": "2025-10-12T19:27:01.153219Z"
    }
   },
   "outputs": [
    {
     "data": {
      "text/html": [
       "<div>\n",
       "<style scoped>\n",
       "    .dataframe tbody tr th:only-of-type {\n",
       "        vertical-align: middle;\n",
       "    }\n",
       "\n",
       "    .dataframe tbody tr th {\n",
       "        vertical-align: top;\n",
       "    }\n",
       "\n",
       "    .dataframe thead th {\n",
       "        text-align: right;\n",
       "    }\n",
       "</style>\n",
       "<table border=\"1\" class=\"dataframe\">\n",
       "  <thead>\n",
       "    <tr style=\"text-align: right;\">\n",
       "      <th></th>\n",
       "      <th>DATE</th>\n",
       "      <th>TM</th>\n",
       "      <th>OPP</th>\n",
       "      <th>NAME</th>\n",
       "      <th>(POS)</th>\n",
       "      <th>G</th>\n",
       "      <th>MIN</th>\n",
       "      <th>FG</th>\n",
       "      <th>FGA</th>\n",
       "      <th>FG3</th>\n",
       "      <th>...</th>\n",
       "      <th>TRB</th>\n",
       "      <th>AST</th>\n",
       "      <th>PF</th>\n",
       "      <th>DQ</th>\n",
       "      <th>STL</th>\n",
       "      <th>TO</th>\n",
       "      <th>BLK</th>\n",
       "      <th>PTS</th>\n",
       "      <th>MyScore</th>\n",
       "      <th>Formatted_name</th>\n",
       "    </tr>\n",
       "  </thead>\n",
       "  <tbody>\n",
       "    <tr>\n",
       "      <th>0</th>\n",
       "      <td>10/11/2025</td>\n",
       "      <td>ATL</td>\n",
       "      <td>MEM</td>\n",
       "      <td>Risacher, Zaccharie</td>\n",
       "      <td>(F  )</td>\n",
       "      <td>1</td>\n",
       "      <td>25</td>\n",
       "      <td>6</td>\n",
       "      <td>8</td>\n",
       "      <td>2</td>\n",
       "      <td>...</td>\n",
       "      <td>1</td>\n",
       "      <td>2</td>\n",
       "      <td>2</td>\n",
       "      <td>0</td>\n",
       "      <td>1</td>\n",
       "      <td>0</td>\n",
       "      <td>0</td>\n",
       "      <td>16</td>\n",
       "      <td>19</td>\n",
       "      <td>zaccharie risacher</td>\n",
       "    </tr>\n",
       "    <tr>\n",
       "      <th>1</th>\n",
       "      <td>10/11/2025</td>\n",
       "      <td>DAL</td>\n",
       "      <td>CHA</td>\n",
       "      <td>Davis, Anthony</td>\n",
       "      <td>(F  )</td>\n",
       "      <td>1</td>\n",
       "      <td>24</td>\n",
       "      <td>6</td>\n",
       "      <td>12</td>\n",
       "      <td>0</td>\n",
       "      <td>...</td>\n",
       "      <td>4</td>\n",
       "      <td>1</td>\n",
       "      <td>3</td>\n",
       "      <td>0</td>\n",
       "      <td>0</td>\n",
       "      <td>1</td>\n",
       "      <td>0</td>\n",
       "      <td>12</td>\n",
       "      <td>17</td>\n",
       "      <td>anthony davis</td>\n",
       "    </tr>\n",
       "    <tr>\n",
       "      <th>2</th>\n",
       "      <td>10/11/2025</td>\n",
       "      <td>OKC</td>\n",
       "      <td>IND</td>\n",
       "      <td>Dieng, Ousmane</td>\n",
       "      <td>(C  )</td>\n",
       "      <td>1</td>\n",
       "      <td>29</td>\n",
       "      <td>3</td>\n",
       "      <td>12</td>\n",
       "      <td>2</td>\n",
       "      <td>...</td>\n",
       "      <td>6</td>\n",
       "      <td>3</td>\n",
       "      <td>4</td>\n",
       "      <td>0</td>\n",
       "      <td>2</td>\n",
       "      <td>2</td>\n",
       "      <td>0</td>\n",
       "      <td>10</td>\n",
       "      <td>19</td>\n",
       "      <td>ousmane dieng</td>\n",
       "    </tr>\n",
       "  </tbody>\n",
       "</table>\n",
       "<p>3 rows × 25 columns</p>\n",
       "</div>"
      ],
      "text/plain": [
       "         DATE   TM  OPP                 NAME  (POS)  G  MIN  FG  FGA  FG3  \\\n",
       "0  10/11/2025  ATL  MEM  Risacher, Zaccharie  (F  )  1   25   6    8    2   \n",
       "1  10/11/2025  DAL  CHA       Davis, Anthony  (F  )  1   24   6   12    0   \n",
       "2  10/11/2025  OKC  IND       Dieng, Ousmane  (C  )  1   29   3   12    2   \n",
       "\n",
       "   ...  TRB  AST  PF  DQ  STL  TO  BLK  PTS  MyScore      Formatted_name  \n",
       "0  ...    1    2   2   0    1   0    0   16       19  zaccharie risacher  \n",
       "1  ...    4    1   3   0    0   1    0   12       17       anthony davis  \n",
       "2  ...    6    3   4   0    2   2    0   10       19       ousmane dieng  \n",
       "\n",
       "[3 rows x 25 columns]"
      ]
     },
     "execution_count": 97,
     "metadata": {},
     "output_type": "execute_result"
    }
   ],
   "source": [
    "df_not_best_performers"
   ]
  },
  {
   "cell_type": "code",
   "execution_count": 99,
   "id": "7fc0f03a-b032-4910-b1e8-8c6ffc10fb70",
   "metadata": {
    "execution": {
     "iopub.execute_input": "2025-10-12T19:27:23.423858Z",
     "iopub.status.busy": "2025-10-12T19:27:23.423004Z",
     "iopub.status.idle": "2025-10-12T19:27:23.430812Z",
     "shell.execute_reply": "2025-10-12T19:27:23.429345Z",
     "shell.execute_reply.started": "2025-10-12T19:27:23.423813Z"
    }
   },
   "outputs": [],
   "source": [
    "my_champs_superstars = [\n",
    "    \"Jokic, Nikola\",\n",
    "    \"Gilgeous-Alexander, Shai\",\n",
    "    \"Doncic, Luka\",\n",
    "    \"James, LeBron\",\n",
    "    \"Curry, Stephen\",\n",
    "    \"Durant, Kevin\",\n",
    "    \"Antetokounmpo, Giannis\",\n",
    "    \"Edwards, Anthony\",\n",
    "    \"Embiid, Joel\",\n",
    "    \"Tatum, Jayson\",\n",
    "    \"Davis, Anthony\",\n",
    "    \"Booker, Devin\",\n",
    "    \"Morant, Ja\",\n",
    "    \"Butler, Jimmy\",\n",
    "    \"Lillard, Damian\",\n",
    "    \"Wembanyama, Victor\",\n",
    "    \"Mitchell, Donovan\",\n",
    "    \"George, Paul\",\n",
    "    \"Towns, Karl-Anthony\",\n",
    "    \"Irving, Kyrie\",\n",
    "]"
   ]
  },
  {
   "cell_type": "code",
   "execution_count": 118,
   "id": "92fe6c36-d31a-4366-8dc7-27e5997bd7ec",
   "metadata": {
    "execution": {
     "iopub.execute_input": "2025-10-12T19:34:19.179621Z",
     "iopub.status.busy": "2025-10-12T19:34:19.179061Z",
     "iopub.status.idle": "2025-10-12T19:34:19.198689Z",
     "shell.execute_reply": "2025-10-12T19:34:19.194647Z",
     "shell.execute_reply.started": "2025-10-12T19:34:19.179576Z"
    }
   },
   "outputs": [
    {
     "data": {
      "text/plain": [
       "['nikola jokic',\n",
       " 'shai gilgeous-alexander',\n",
       " 'luka doncic',\n",
       " 'lebron james',\n",
       " 'stephen curry',\n",
       " 'kevin durant',\n",
       " 'giannis antetokounmpo',\n",
       " 'anthony edwards',\n",
       " 'joel embiid',\n",
       " 'jayson tatum',\n",
       " 'anthony davis',\n",
       " 'devin booker',\n",
       " 'ja morant',\n",
       " 'jimmy butler',\n",
       " 'damian lillard',\n",
       " 'victor wembanyama',\n",
       " 'donovan mitchell',\n",
       " 'paul george',\n",
       " 'karl-anthony towns',\n",
       " 'kyrie irving']"
      ]
     },
     "execution_count": 118,
     "metadata": {},
     "output_type": "execute_result"
    }
   ],
   "source": [
    "my_champs_superstars_converted = [\" \".join(name.split(\", \")[::-1]).lower() for name in my_champs_superstars]\n",
    "my_champs_superstars_converted"
   ]
  },
  {
   "cell_type": "code",
   "execution_count": 102,
   "id": "d7f3d462-a743-4a74-bb27-f0c4257918da",
   "metadata": {
    "execution": {
     "iopub.execute_input": "2025-10-12T19:28:06.681011Z",
     "iopub.status.busy": "2025-10-12T19:28:06.678721Z",
     "iopub.status.idle": "2025-10-12T19:28:06.737288Z",
     "shell.execute_reply": "2025-10-12T19:28:06.734971Z",
     "shell.execute_reply.started": "2025-10-12T19:28:06.680952Z"
    }
   },
   "outputs": [
    {
     "name": "stdout",
     "output_type": "stream",
     "text": [
      "         DATE   TM  OPP            NAME  (POS)  G  MIN  FG  FGA  FG3  ...  \\\n",
      "1  10/11/2025  DAL  CHA  Davis, Anthony  (F  )  1   24   6   12    0  ...   \n",
      "\n",
      "   TRB  AST  PF  DQ  STL  TO  BLK  PTS  MyScore  Formatted_name  \n",
      "1    4    1   3   0    0   1    0   12       17   anthony davis  \n",
      "\n",
      "[1 rows x 25 columns]\n"
     ]
    }
   ],
   "source": [
    "superstars_day = df_not_best_performers[df_not_best_performers['NAME'].isin(my_champs_superstars)]\n",
    "print(superstars_day)"
   ]
  },
  {
   "cell_type": "code",
   "execution_count": 119,
   "id": "d4837faa-c7ba-40c0-b895-c8e9d179643d",
   "metadata": {
    "execution": {
     "iopub.execute_input": "2025-10-12T19:34:25.195775Z",
     "iopub.status.busy": "2025-10-12T19:34:25.193429Z",
     "iopub.status.idle": "2025-10-12T19:34:25.238287Z",
     "shell.execute_reply": "2025-10-12T19:34:25.235643Z",
     "shell.execute_reply.started": "2025-10-12T19:34:25.195706Z"
    }
   },
   "outputs": [],
   "source": [
    "# Get today local files ---\n",
    "input_file_2 = f\"data/picked_players.csv\"\n",
    "\n",
    "picked_players = pd.read_csv(input_file_2).iloc[5:].reset_index(drop=True)\n",
    "\n",
    "picked_superstars = picked_players[picked_players['player_name'].isin(my_champs_superstars_converted)]\n",
    "\n",
    "input_file_3 = f\"data/picked_players_info.csv\"\n",
    "picked_players_info = pd.read_csv(input_file_3).iloc[5:].reset_index(drop=True)\n",
    "\n",
    "superstars_info = picked_players_info[picked_players_info['Name'].isin(my_champs_superstars_converted)]\n",
    "\n",
    "input_file_4 = f\"data/picked_players_video_event_df.csv\"\n",
    "picked_players_video_event_df = pd.read_csv(input_file_4)\n",
    "picked_players_video_event_df = picked_players_video_event_df.dropna(subset=['video']).reset_index(drop=True)\n",
    "supertars_video_event_df = picked_players_video_event_df[picked_players_video_event_df['player_name'].isin(my_champs_superstars_converted)]\n"
   ]
  },
  {
   "cell_type": "code",
   "execution_count": 120,
   "id": "685540a7-0cee-4b1a-8122-7945b0dbaeff",
   "metadata": {
    "execution": {
     "iopub.execute_input": "2025-10-12T19:34:32.452210Z",
     "iopub.status.busy": "2025-10-12T19:34:32.450582Z",
     "iopub.status.idle": "2025-10-12T19:34:32.465680Z",
     "shell.execute_reply": "2025-10-12T19:34:32.464453Z",
     "shell.execute_reply.started": "2025-10-12T19:34:32.452164Z"
    }
   },
   "outputs": [
    {
     "data": {
      "text/html": [
       "<div>\n",
       "<style scoped>\n",
       "    .dataframe tbody tr th:only-of-type {\n",
       "        vertical-align: middle;\n",
       "    }\n",
       "\n",
       "    .dataframe tbody tr th {\n",
       "        vertical-align: top;\n",
       "    }\n",
       "\n",
       "    .dataframe thead th {\n",
       "        text-align: right;\n",
       "    }\n",
       "</style>\n",
       "<table border=\"1\" class=\"dataframe\">\n",
       "  <thead>\n",
       "    <tr style=\"text-align: right;\">\n",
       "      <th></th>\n",
       "      <th>player_name</th>\n",
       "      <th>player_id</th>\n",
       "      <th>img</th>\n",
       "      <th>game_id</th>\n",
       "      <th>location</th>\n",
       "    </tr>\n",
       "  </thead>\n",
       "  <tbody>\n",
       "    <tr>\n",
       "      <th>1</th>\n",
       "      <td>anthony davis</td>\n",
       "      <td>203076</td>\n",
       "      <td>https://cdn.nba.com/headshots/nba/latest/1040x...</td>\n",
       "      <td>12500047</td>\n",
       "      <td>home</td>\n",
       "    </tr>\n",
       "  </tbody>\n",
       "</table>\n",
       "</div>"
      ],
      "text/plain": [
       "     player_name  player_id  \\\n",
       "1  anthony davis     203076   \n",
       "\n",
       "                                                 img   game_id location  \n",
       "1  https://cdn.nba.com/headshots/nba/latest/1040x...  12500047     home  "
      ]
     },
     "execution_count": 120,
     "metadata": {},
     "output_type": "execute_result"
    }
   ],
   "source": [
    "picked_superstars"
   ]
  },
  {
   "cell_type": "code",
   "execution_count": null,
   "id": "ba0cccfb-3930-42c7-b8b8-5ab303b7cebc",
   "metadata": {},
   "outputs": [],
   "source": []
  }
 ],
 "metadata": {
  "kernelspec": {
   "display_name": "Python 3 (ipykernel)",
   "language": "python",
   "name": "python3"
  },
  "language_info": {
   "codemirror_mode": {
    "name": "ipython",
    "version": 3
   },
   "file_extension": ".py",
   "mimetype": "text/x-python",
   "name": "python",
   "nbconvert_exporter": "python",
   "pygments_lexer": "ipython3",
   "version": "3.12.9"
  }
 },
 "nbformat": 4,
 "nbformat_minor": 5
}
