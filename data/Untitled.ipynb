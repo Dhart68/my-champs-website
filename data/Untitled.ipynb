{
 "cells": [
  {
   "cell_type": "code",
   "execution_count": 8,
   "id": "2cdc4ffa-9a75-4e19-aa50-b23a6834f0bc",
   "metadata": {
    "execution": {
     "iopub.execute_input": "2025-10-06T07:49:06.792552Z",
     "iopub.status.busy": "2025-10-06T07:49:06.791942Z",
     "iopub.status.idle": "2025-10-06T07:49:06.808091Z",
     "shell.execute_reply": "2025-10-06T07:49:06.807143Z",
     "shell.execute_reply.started": "2025-10-06T07:49:06.792517Z"
    }
   },
   "outputs": [
    {
     "data": {
      "text/html": [
       "<div>\n",
       "<style scoped>\n",
       "    .dataframe tbody tr th:only-of-type {\n",
       "        vertical-align: middle;\n",
       "    }\n",
       "\n",
       "    .dataframe tbody tr th {\n",
       "        vertical-align: top;\n",
       "    }\n",
       "\n",
       "    .dataframe thead th {\n",
       "        text-align: right;\n",
       "    }\n",
       "</style>\n",
       "<table border=\"1\" class=\"dataframe\">\n",
       "  <thead>\n",
       "    <tr style=\"text-align: right;\">\n",
       "      <th></th>\n",
       "      <th>player_name</th>\n",
       "      <th>player_id</th>\n",
       "      <th>img</th>\n",
       "      <th>game_id</th>\n",
       "      <th>location</th>\n",
       "      <th>video_urls</th>\n",
       "      <th>video_event_df</th>\n",
       "    </tr>\n",
       "  </thead>\n",
       "  <tbody>\n",
       "    <tr>\n",
       "      <th>0</th>\n",
       "      <td>kennedy chandler</td>\n",
       "      <td>1631113</td>\n",
       "      <td>https://cdn.nba.com/headshots/nba/latest/1040x...</td>\n",
       "      <td>12500010</td>\n",
       "      <td>home</td>\n",
       "      <td>NaN</td>\n",
       "      <td>NaN</td>\n",
       "    </tr>\n",
       "  </tbody>\n",
       "</table>\n",
       "</div>"
      ],
      "text/plain": [
       "        player_name  player_id  \\\n",
       "0  kennedy chandler    1631113   \n",
       "\n",
       "                                                 img   game_id location  \\\n",
       "0  https://cdn.nba.com/headshots/nba/latest/1040x...  12500010     home   \n",
       "\n",
       "   video_urls  video_event_df  \n",
       "0         NaN             NaN  "
      ]
     },
     "execution_count": 8,
     "metadata": {},
     "output_type": "execute_result"
    }
   ],
   "source": [
    "import pandas as pd\n",
    "\n",
    "df = pd.read_csv(\"picked_players.csv\")\n",
    "\n",
    "df"
   ]
  },
  {
   "cell_type": "code",
   "execution_count": 9,
   "id": "4d6187d8-7c96-4ab2-800f-e5058b98d3cb",
   "metadata": {
    "execution": {
     "iopub.execute_input": "2025-10-06T07:49:09.567043Z",
     "iopub.status.busy": "2025-10-06T07:49:09.566466Z",
     "iopub.status.idle": "2025-10-06T07:49:09.573565Z",
     "shell.execute_reply": "2025-10-06T07:49:09.572186Z",
     "shell.execute_reply.started": "2025-10-06T07:49:09.567012Z"
    }
   },
   "outputs": [
    {
     "data": {
      "text/plain": [
       "nan"
      ]
     },
     "execution_count": 9,
     "metadata": {},
     "output_type": "execute_result"
    }
   ],
   "source": [
    "df.video_event_df[0]\n"
   ]
  },
  {
   "cell_type": "code",
   "execution_count": 27,
   "id": "2a928690-2ff7-4946-8216-1276ed3a65ed",
   "metadata": {
    "execution": {
     "iopub.execute_input": "2025-10-06T07:23:30.706730Z",
     "iopub.status.busy": "2025-10-06T07:23:30.706522Z",
     "iopub.status.idle": "2025-10-06T07:23:30.714442Z",
     "shell.execute_reply": "2025-10-06T07:23:30.713518Z",
     "shell.execute_reply.started": "2025-10-06T07:23:30.706716Z"
    }
   },
   "outputs": [
    {
     "data": {
      "text/plain": [
       "1"
      ]
     },
     "execution_count": 27,
     "metadata": {},
     "output_type": "execute_result"
    }
   ],
   "source": [
    "len(video_urls)"
   ]
  },
  {
   "cell_type": "code",
   "execution_count": 25,
   "id": "57c9e690-538a-4052-af3e-4ff92ff7baa8",
   "metadata": {
    "execution": {
     "iopub.execute_input": "2025-10-06T07:23:00.681437Z",
     "iopub.status.busy": "2025-10-06T07:23:00.679823Z",
     "iopub.status.idle": "2025-10-06T07:23:00.690181Z",
     "shell.execute_reply": "2025-10-06T07:23:00.689132Z",
     "shell.execute_reply.started": "2025-10-06T07:23:00.681386Z"
    }
   },
   "outputs": [
    {
     "data": {
      "text/plain": [
       "'\"[{\\'video\\': {0: \\'https://videos.nba.com/nba/pbp/media/2025/10/04/0012500010/159/96a81855-9794-955f-b98a-1ca0f4047b22_1280x720.mp4\\', 1: \\'https://videos.nba.com/nba/pbp/media/2025/10/04/0012500010/208/db3f9223-b7bd-6751-6e2f-ad9afd174cb0_1280x720.mp4\\', 2: \\'https://videos.nba.com/nba/pbp/media/2025/10/04/0012500010/215/7e35bb65-43c8-1436-4d43-aaf26f515b30_1280x720.mp4\\', 3: \\'https://videos.nba.com/nba/pbp/media/2025/10/04/0012500010/271/9614f61d-7006-a960-4a60-b3b2525be85c_1280x720.mp4\\', 4: \\'https://videos.nba.com/nba/pbp/media/2025/10/04/0012500010/274/d4b5947c-61b6-e76b-9dc5-9e27ab8b4329_1280x720.mp4\\', 5: \\'https://videos.nba.com/nba/pbp/media/2025/10/04/0012500010/275/1b927c79-70ee-51e4-062d-e871bf113c39_1280x720.mp4\\', 6: \\'https://videos.nba.com/nba/pbp/media/2025/10/04/0012500010/291/6258cb3b-04d2-fd6d-aa29-f0586716ab86_1280x720.mp4\\', 7: \\'https://videos.nba.com/nba/pbp/media/2025/10/04/0012500010/293/f68bff81-5dab-9f61-f74d-06b42fb6c4af_1280x720.mp4\\', 8: \\'https://videos.nba.com/nba/pbp/media/2025/10/04/0012500010/295/20090cc0-98ef-828c-e8cb-2e0c18536fb0_1280x720.mp4\\', 9: \\'https://videos.nba.com/nba/pbp/media/2025/10/04/0012500010/304/80be14fa-5fa2-592d-2f09-17bc0cbeba6f_1280x720.mp4\\', 10: \\'https://videos.nba.com/nba/pbp/media/2025/10/04/0012500010/310/650ce0c7-e34b-949a-cbe2-744b7e11e309_1280x720.mp4\\', 11: \\'https://videos.nba.com/nba/pbp/media/2025/10/04/0012500010/320/b5a2c609-e2b5-5581-8bfa-9274d2d7c000_1280x720.mp4\\', 12: \\'https://videos.nba.com/nba/pbp/media/2025/10/04/0012500010/350/0a998439-b712-b598-d82a-099e9e2b921d_1280x720.mp4\\', 13: \\'https://videos.nba.com/nba/pbp/media/2025/10/04/0012500010/641/3d5996fe-a2f4-1952-cb63-bde35379e4bd_1280x720.mp4\\', 14: \\'https://videos.nba.com/nba/pbp/media/2025/10/04/0012500010/574/f118492a-5518-a31f-fab5-6e18758eee81_1280x720.mp4\\', 15: \\'https://videos.nba.com/nba/pbp/media/2025/10/04/0012500010/575/4ec9135c-20e8-e89a-404b-8ac4fdbaffbc_1280x720.mp4\\', 16: \\'https://videos.nba.com/nba/pbp/media/2025/10/04/0012500010/658/faf0aa10-c658-e7f0-0056-9d56e41f523e_1280x720.mp4\\', 17: \\'https://videos.nba.com/nba/pbp/media/2025/10/04/0012500010/428/fe81aedc-c503-4eac-3a71-88012f86781c_1280x720.mp4\\', 18: \\'https://videos.nba.com/nba/pbp/media/2025/10/04/0012500010/433/dace1969-cfde-62ac-867b-ef5136c152f8_1280x720.mp4\\', 19: \\'https://videos.nba.com/nba/pbp/media/2025/10/04/0012500010/451/f8ce124a-4a90-7be7-b1ec-e7a2c16d6618_1280x720.mp4\\', 20: \\'https://videos.nba.com/nba/pbp/media/2025/10/04/0012500010/468/08dd2152-685e-b49f-c70f-6bdc2c591870_1280x720.mp4\\', 21: \\'https://videos.nba.com/nba/pbp/media/2025/10/04/0012500010/485/4094c98d-b16c-0df7-349a-5360f7ddba1d_1280x720.mp4\\', 22: \\'https://videos.nba.com/nba/pbp/media/2025/10/04/0012500010/486/09c6ceab-81fe-c8f4-8722-7d3b212815a6_1280x720.mp4\\', 23: \\'https://videos.nba.com/nba/pbp/media/2025/10/04/0012500010/491/33b05cb6-e2ee-3836-0da9-eda3775e83e3_1280x720.mp4\\', 24: \\'https://videos.nba.com/nba/pbp/media/2025/10/04/0012500010/493/9096d7b0-2ce7-6607-7a6c-101b399e2375_1280x720.mp4\\', 25: \\'https://videos.nba.com/nba/pbp/media/2025/10/04/0012500010/498/34183d86-662d-52a3-6d72-6c88d1605994_1280x720.mp4\\', 26: \\'https://videos.nba.com/nba/pbp/media/2025/10/04/0012500010/501/f2d34ec2-fc6d-6dcb-05fd-b5bf956a6d58_1280x720.mp4\\', 27: \\'https://videos.nba.com/nba/pbp/media/2025/10/04/0012500010/504/ba9e79b6-98aa-7bad-d170-d043576c48dd_1280x720.mp4\\', 28: \\'https://videos.nba.com/nba/pbp/media/2025/10/04/0012500010/513/fec34824-fb8a-92df-b5f7-139cd9e4f450_1280x720.mp4\\', 29: \\'https://videos.nba.com/nba/pbp/media/2025/10/04/0012500010/532/1f411a21-7eef-7275-4e1a-7b33e34d3996_1280x720.mp4\\', 30: \\'https://videos.nba.com/nba/pbp/media/2025/10/04/0012500010/534/9752fa9d-5d31-71c8-8eb4-e6f0a2262fe2_1280x720.mp4\\', 31: \\'https://videos.nba.com/nba/pbp/media/2025/10/04/0012500010/539/396149d2-dfb3-a35f-ace7-d6573726b2eb_1280x720.mp4\\', 32: \\'https://videos.nba.com/nba/pbp/media/2025/10/04/0012500010/540/e1901f22-7888-c3b3-5055-f73ab9323277_1280x720.mp4\\', 33: \\'https://videos.nba.com/nba/pbp/media/2025/10/04/0012500010/541/da7bd1db-b259-e647-c5f5-f03beda85457_1280x720.mp4\\', 34: \\'https://videos.nba.com/nba/pbp/media/2025/10/04/0012500010/542/a9f25a3c-0a7f-55d5-b435-58e951d0f2a0_1280x720.mp4\\', 35: \\'https://videos.nba.com/nba/pbp/media/2025/10/04/0012500010/547/2e9dee97-1235-14f5-30f4-a9e3171d8a8a_1280x720.mp4\\'}, \\'desc\\': {0: \\'Chandler Out of Bounds - Bad Pass Turnover Turnover (P1.T4)\\', 1: \\'Chandler Bad Pass Turnover (P2.T6) Brogdon STEAL (1 STL)\\', 2: \"MISS Chandler 8\\' Driving Floating Jump Shot\", 3: \"Broome 12\\' Turnaround Jump Shot (2 PTS) (Chandler 1 AST)\", 4: \\'Chandler REBOUND (Off:0 Def:1)\\', 5: \"Oubre Jr. 3\\' Driving Floating Jump Shot (4 PTS) (Chandler 2 AST)\", 6: \\'Brunson S.FOUL (P2.T3) (J.Van Duyne)\\', 7: \\'Chandler Free Throw 1 of 2 (1 PTS)\\', 8: \\'MISS Chandler Free Throw 2 of 2\\', 9: \"MISS Chandler 9\\' Driving Floating Jump Shot\", 10: \\'Chandler REBOUND (Off:0 Def:2)\\', 11: \"MISS Chandler 26\\' 3PT Jump Shot\", 12: \"Oubre Jr. 3\\' Running Layup (9 PTS) (Chandler 3 AST)\", 13: \"MISS Chandler 1\\' Driving Layup\", 14: \"Oubre Jr. 26\\' 3PT Jump Shot (13 PTS) (Chandler 4 AST)\", 15: \"Chandler 3\\' Driving Layup (3 PTS)\", 16: \\'Chandler Bad Pass Turnover (P3.T11) Brogdon STEAL (2 STL)\\', 17: \\'Chandler S.FOUL (P1.PN) (J.Sterling)\\', 18: \"MISS Chandler 5\\' Driving Finger Roll Layup\", 19: \"Hill 29\\' 3PT Jump Shot (5 PTS) (Chandler 5 AST)\", 20: \\'McCullar Jr. P.FOUL (P2.T1) (J.Van Duyne)\\', 21: \"Chandler 3\\' Driving Layup (5 PTS)\", 22: \\'Diawara S.FOUL (P1.T2) (J.Van Duyne)\\', 23: \"Chandler 7\\' Running Finger Roll Layup (8 PTS) (Hill 1 AST)\", 24: \\'McCullar Jr. S.FOUL (P3.T3) (T.Maddox)\\', 25: \\'Chandler Bad Pass Turnover (P4.T17) McCullar Jr. STEAL (2 STL)\\', 26: \\'Hill 3PT Jump Shot (8 PTS) (Chandler 6 AST)\\', 27: \"Chandler 2\\' Driving Layup (11 PTS)\", 28: \\'Chandler Lost Ball Turnover (P5.T19) Evbuomwan STEAL (1 STL)\\', 29: \\'Jemison III P.FOUL (P1.PN) (J.Van Duyne)\\', 30: \\'Chandler Free Throw 1 of 2 (12 PTS)\\', 31: \\'MISS Chandler Free Throw 2 of 2\\', 32: \\'Chandler REBOUND (Off:1 Def:2)\\', 33: \"Chandler 5\\' Putback Layup (14 PTS)\", 34: \\'Evbuomwan S.FOUL (P1.PN) (J.Sterling)\\', 35: \"MISS Chandler 28\\' 3PT Jump Shot\"}, \\'player_id\\': {0: 1631113, 1: 1631113, 2: 1631113, 3: 1631113, 4: 1631113, 5: 1631113, 6: 1631113, 7: 1631113, 8: 1631113, 9: 1631113, 10: 1631113, 11: 1631113, 12: 1631113, 13: 1631113, 14: 1631113, 15: 1631113, 16: 1631113, 17: 1631113, 18: 1631113, 19: 1631113, 20: 1631113, 21: 1631113, 22: 1631113, 23: 1631113, 24: 1631113, 25: 1631113, 26: 1631113, 27: 1631113, 28: 1631113, 29: 1631113, 30: 1631113, 31: 1631113, 32: 1631113, 33: 1631113, 34: 1631113, 35: 1631113}, \\'game_id\\': {0: \\'0012500010\\', 1: \\'0012500010\\', 2: \\'0012500010\\', 3: \\'0012500010\\', 4: \\'0012500010\\', 5: \\'0012500010\\', 6: \\'0012500010\\', 7: \\'0012500010\\', 8: \\'0012500010\\', 9: \\'0012500010\\', 10: \\'0012500010\\', 11: \\'0012500010\\', 12: \\'0012500010\\', 13: \\'0012500010\\', 14: \\'0012500010\\', 15: \\'0012500010\\', 16: \\'0012500010\\', 17: \\'0012500010\\', 18: \\'0012500010\\', 19: \\'0012500010\\', 20: \\'0012500010\\', 21: \\'0012500010\\', 22: \\'0012500010\\', 23: \\'0012500010\\', 24: \\'0012500010\\', 25: \\'0012500010\\', 26: \\'0012500010\\', 27: \\'0012500010\\', 28: \\'0012500010\\', 29: \\'0012500010\\', 30: \\'0012500010\\', 31: \\'0012500010\\', 32: \\'0012500010\\', 33: \\'0012500010\\', 34: \\'0012500010\\', 35: \\'0012500010\\'}, \\'game_location\\': {0: \\'home\\', 1: \\'home\\', 2: \\'home\\', 3: \\'home\\', 4: \\'home\\', 5: \\'home\\', 6: \\'home\\', 7: \\'home\\', 8: \\'home\\', 9: \\'home\\', 10: \\'home\\', 11: \\'home\\', 12: \\'home\\', 13: \\'home\\', 14: \\'home\\', 15: \\'home\\', 16: \\'home\\', 17: \\'home\\', 18: \\'home\\', 19: \\'home\\', 20: \\'home\\', 21: \\'home\\', 22: \\'home\\', 23: \\'home\\', 24: \\'home\\', 25: \\'home\\', 26: \\'home\\', 27: \\'home\\', 28: \\'home\\', 29: \\'home\\', 30: \\'home\\', 31: \\'home\\', 32: \\'home\\', 33: \\'home\\', 34: \\'home\\', 35: \\'home\\'}, \\'option\\': {0: \\'Full\\', 1: \\'Full\\', 2: \\'Full\\', 3: \\'Full\\', 4: \\'Full\\', 5: \\'Full\\', 6: \\'Full\\', 7: \\'Full\\', 8: \\'Full\\', 9: \\'Full\\', 10: \\'Full\\', 11: \\'Full\\', 12: \\'Full\\', 13: \\'Full\\', 14: \\'Full\\', 15: \\'Full\\', 16: \\'Full\\', 17: \\'Full\\', 18: \\'Full\\', 19: \\'Full\\', 20: \\'Full\\', 21: \\'Full\\', 22: \\'Full\\', 23: \\'Full\\', 24: \\'Full\\', 25: \\'Full\\', 26: \\'Full\\', 27: \\'Full\\', 28: \\'Full\\', 29: \\'Full\\', 30: \\'Full\\', 31: \\'Full\\', 32: \\'Full\\', 33: \\'Full\\', 34: \\'Full\\', 35: \\'Full\\'}}]\"'"
      ]
     },
     "execution_count": 25,
     "metadata": {},
     "output_type": "execute_result"
    }
   ],
   "source": [
    "video_urls_js = ','.join(f'\"{url}\"' for url in video_urls) # needed for the video player js\n",
    "video_urls_js"
   ]
  },
  {
   "cell_type": "code",
   "execution_count": null,
   "id": "0292ceaa-9434-4462-b41b-3534219f0fca",
   "metadata": {},
   "outputs": [],
   "source": []
  }
 ],
 "metadata": {
  "kernelspec": {
   "display_name": "Python 3 (ipykernel)",
   "language": "python",
   "name": "python3"
  },
  "language_info": {
   "codemirror_mode": {
    "name": "ipython",
    "version": 3
   },
   "file_extension": ".py",
   "mimetype": "text/x-python",
   "name": "python",
   "nbconvert_exporter": "python",
   "pygments_lexer": "ipython3",
   "version": "3.12.9"
  }
 },
 "nbformat": 4,
 "nbformat_minor": 5
}
