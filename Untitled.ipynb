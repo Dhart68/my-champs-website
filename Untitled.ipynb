{
 "cells": [
  {
   "cell_type": "code",
   "execution_count": 69,
   "id": "29d6df3c-9b48-4222-afe2-2f03b330b511",
   "metadata": {
    "execution": {
     "iopub.execute_input": "2025-10-10T08:51:02.419294Z",
     "iopub.status.busy": "2025-10-10T08:51:02.418786Z",
     "iopub.status.idle": "2025-10-10T08:51:02.437085Z",
     "shell.execute_reply": "2025-10-10T08:51:02.435934Z",
     "shell.execute_reply.started": "2025-10-10T08:51:02.419258Z"
    }
   },
   "outputs": [],
   "source": [
    "# update_nba_data.py\n",
    "import pandas as pd\n",
    "from datetime import date\n",
    "from datetime import datetime\n",
    "\n",
    "from nba_api.stats.static import players\n",
    "from nba_api.stats.endpoints import playergamelog\n",
    "from nba_api.stats.endpoints import commonplayerinfo\n",
    "\n",
    "from get_player_image import get_player_image\n",
    "from get_mp4_urls import get_mp4_urls\n",
    "\n",
    "from get_best_players_day import get_best_players_day\n",
    "from get_players_info import get_players_info"
   ]
  },
  {
   "cell_type": "code",
   "execution_count": 48,
   "id": "768850c2-b1c0-410e-87f0-ef303c838a77",
   "metadata": {
    "execution": {
     "iopub.execute_input": "2025-10-10T06:08:03.732334Z",
     "iopub.status.busy": "2025-10-10T06:08:03.731884Z",
     "iopub.status.idle": "2025-10-10T06:08:03.738706Z",
     "shell.execute_reply": "2025-10-10T06:08:03.737839Z",
     "shell.execute_reply.started": "2025-10-10T06:08:03.732310Z"
    }
   },
   "outputs": [],
   "source": [
    "pd.set_option('display.max_rows', None)"
   ]
  },
  {
   "cell_type": "code",
   "execution_count": 87,
   "id": "93b0ee42-a017-4e88-94c1-da6ae0c2c1e1",
   "metadata": {
    "execution": {
     "iopub.execute_input": "2025-10-10T11:10:57.056586Z",
     "iopub.status.busy": "2025-10-10T11:10:57.049766Z",
     "iopub.status.idle": "2025-10-10T11:10:57.121830Z",
     "shell.execute_reply": "2025-10-10T11:10:57.120636Z",
     "shell.execute_reply.started": "2025-10-10T11:10:57.056401Z"
    }
   },
   "outputs": [],
   "source": [
    "pbp = pd.read_csv('data/picked_players_video_event_df_2025-10-10.csv')"
   ]
  },
  {
   "cell_type": "code",
   "execution_count": 92,
   "id": "1065de09-f86d-4556-a274-80a847ffe436",
   "metadata": {
    "execution": {
     "iopub.execute_input": "2025-10-10T12:07:11.708665Z",
     "iopub.status.busy": "2025-10-10T12:07:11.707249Z",
     "iopub.status.idle": "2025-10-10T12:07:11.723417Z",
     "shell.execute_reply": "2025-10-10T12:07:11.722222Z",
     "shell.execute_reply.started": "2025-10-10T12:07:11.708635Z"
    }
   },
   "outputs": [
    {
     "data": {
      "text/plain": [
       "Index(['GAME_ID', 'EVENTNUM', 'EVENTMSGTYPE', 'EVENTMSGACTIONTYPE', 'PERIOD',\n",
       "       'WCTIMESTRING', 'PCTIMESTRING', 'HOMEDESCRIPTION', 'NEUTRALDESCRIPTION',\n",
       "       'VISITORDESCRIPTION', 'SCORE', 'SCOREMARGIN', 'PERSON1TYPE',\n",
       "       'PLAYER1_ID', 'PLAYER1_NAME', 'PLAYER1_TEAM_ID', 'PLAYER1_TEAM_CITY',\n",
       "       'PLAYER1_TEAM_NICKNAME', 'PLAYER1_TEAM_ABBREVIATION', 'PERSON2TYPE',\n",
       "       'PLAYER2_ID', 'PLAYER2_NAME', 'PLAYER2_TEAM_ID', 'PLAYER2_TEAM_CITY',\n",
       "       'PLAYER2_TEAM_NICKNAME', 'PLAYER2_TEAM_ABBREVIATION', 'PERSON3TYPE',\n",
       "       'PLAYER3_ID', 'PLAYER3_NAME', 'PLAYER3_TEAM_ID', 'PLAYER3_TEAM_CITY',\n",
       "       'PLAYER3_TEAM_NICKNAME', 'PLAYER3_TEAM_ABBREVIATION',\n",
       "       'VIDEO_AVAILABLE_FLAG', 'video', 'desc', 'player_name'],\n",
       "      dtype='object')"
      ]
     },
     "execution_count": 92,
     "metadata": {},
     "output_type": "execute_result"
    }
   ],
   "source": [
    "pbp.columns\n"
   ]
  },
  {
   "cell_type": "code",
   "execution_count": null,
   "id": "72fcf666-965c-4b69-b59d-cd93a5d31818",
   "metadata": {},
   "outputs": [],
   "source": []
  }
 ],
 "metadata": {
  "kernelspec": {
   "display_name": "Python 3 (ipykernel)",
   "language": "python",
   "name": "python3"
  },
  "language_info": {
   "codemirror_mode": {
    "name": "ipython",
    "version": 3
   },
   "file_extension": ".py",
   "mimetype": "text/x-python",
   "name": "python",
   "nbconvert_exporter": "python",
   "pygments_lexer": "ipython3",
   "version": "3.12.9"
  }
 },
 "nbformat": 4,
 "nbformat_minor": 5
}
